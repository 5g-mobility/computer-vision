{
 "cells": [
  {
   "cell_type": "markdown",
   "metadata": {},
   "source": [
    "# Linear Regression\n"
   ]
  },
  {
   "cell_type": "code",
   "execution_count": 42,
   "metadata": {},
   "outputs": [],
   "source": [
    "import pandas as pd\n",
    "import numpy as np\n",
    "import matplotlib.pyplot as plt\n",
    "from sklearn.model_selection import train_test_split,cross_validate, RepeatedKFold\n",
    "from sklearn.linear_model import LinearRegression\n",
    "from sklearn.preprocessing import StandardScaler\n",
    "from sklearn.linear_model import Ridge\n",
    "from sklearn.model_selection import GridSearchCV\n",
    "from sklearn.svm import SVR\n",
    "from sklearn.multioutput import MultiOutputRegressor\n",
    "import pickle"
   ]
  },
  {
   "cell_type": "code",
   "execution_count": 43,
   "metadata": {},
   "outputs": [
    {
     "name": "stdout",
     "output_type": "stream",
     "text": [
      "   obj        x1        y1        x2        y2      prob        lat      long\n",
      "0    2  0.549913  0.485339  0.023438  0.030864  0.704711  40.628118 -8.733072\n",
      "1    2  0.129774  0.636960  0.142361  0.135031  0.819667  40.628362 -8.733523\n",
      "2    2  0.047309  0.687114  0.093750  0.176698  0.610786  40.628366 -8.733555\n",
      "3    2  0.555339  0.480324  0.023003  0.031636  0.630246  40.628103 -8.733021\n",
      "4    2  0.559245  0.476852  0.020399  0.027778  0.536870  40.628083 -8.732968\n"
     ]
    }
   ],
   "source": [
    "data=pd.read_csv('mappingRia2.csv', header=0)\n",
    "\n",
    "print(data.head())"
   ]
  },
  {
   "cell_type": "code",
   "execution_count": 44,
   "metadata": {},
   "outputs": [],
   "source": [
    "data.describe()\n",
    "data=data.values"
   ]
  },
  {
   "cell_type": "code",
   "execution_count": 45,
   "metadata": {},
   "outputs": [
    {
     "name": "stdout",
     "output_type": "stream",
     "text": [
      "8\n",
      "[[0.549913  0.485339 ]\n",
      " [0.129774  0.63696  ]\n",
      " [0.047309  0.687114 ]\n",
      " [0.555339  0.480324 ]\n",
      " [0.559245  0.476852 ]\n",
      " [0.564019  0.471451 ]\n",
      " [0.567057  0.467593 ]\n",
      " [0.576389  0.46142  ]\n",
      " [0.577908  0.461034 ]\n",
      " [0.485894  0.464506 ]\n",
      " [0.475911  0.468364 ]\n",
      " [0.465712  0.471451 ]\n",
      " [0.440321  0.48071  ]\n",
      " [0.422743  0.486497 ]\n",
      " [0.406467  0.490741 ]\n",
      " [0.381293  0.499614 ]\n",
      " [0.367622  0.509645 ]\n",
      " [0.269748  0.541667 ]\n",
      " [0.219618  0.563657 ]\n",
      " [0.147786  0.587577 ]\n",
      " [0.0659722 0.625386 ]\n",
      " [0.155816  0.872685 ]\n",
      " [0.208116  0.83179  ]\n",
      " [0.317925  0.772762 ]\n",
      " [0.45204   0.638889 ]\n",
      " [0.480252  0.614583 ]\n",
      " [0.503255  0.594522 ]\n",
      " [0.52322   0.577932 ]\n",
      " [0.53928   0.565972 ]\n",
      " [0.554688  0.555556 ]\n",
      " [0.569661  0.54591  ]\n",
      " [0.298611  0.537809 ]\n",
      " [0.279731  0.540895 ]\n",
      " [0.250217  0.553241 ]\n",
      " [0.202474  0.576775 ]\n",
      " [0.147352  0.599151 ]\n",
      " [0.0831163 0.624614 ]\n",
      " [0.412109  0.490741 ]\n",
      " [0.395399  0.496914 ]\n",
      " [0.377821  0.501929 ]\n",
      " [0.366102  0.509259 ]\n",
      " [0.282118  0.533951 ]\n",
      " [0.258464  0.546296 ]\n",
      " [0.213325  0.568673 ]\n",
      " [0.159939  0.586034 ]\n",
      " [0.0957031 0.610725 ]\n",
      " [0.0440538 0.647377 ]\n",
      " [0.108507  0.873071 ]\n",
      " [0.15191   0.833719 ]\n",
      " [0.239149  0.740355 ]\n",
      " [0.429253  0.596451 ]\n",
      " [0.456597  0.567515 ]\n",
      " [0.479601  0.549769 ]\n",
      " [0.493707  0.53588  ]\n",
      " [0.519097  0.511188 ]\n",
      " [0.540799  0.491898 ]\n",
      " [0.161458  0.85841  ]\n",
      " [0.230035  0.765818 ]\n",
      " [0.333767  0.681327 ]\n",
      " [0.428168  0.607253 ]\n",
      " [0.0594618 0.805941 ]\n",
      " [0.562934  0.470293 ]\n",
      " [0.457248  0.580633 ]\n",
      " [0.565755  0.467207 ]\n",
      " [0.481337  0.561728 ]\n",
      " [0.156901  0.722222 ]\n",
      " [0.499132  0.546296 ]\n",
      " [0.250217  0.645062 ]\n",
      " [0.512804  0.530478 ]\n",
      " [0.521701  0.521605 ]\n",
      " [0.390408  0.565586 ]\n",
      " [0.575521  0.459877 ]\n",
      " [0.532552  0.510802 ]\n",
      " [0.42296   0.540509 ]\n",
      " [0.0889757 0.759259 ]\n",
      " [0.540799  0.505401 ]\n",
      " [0.450087  0.523534 ]\n",
      " [0.219401  0.670139 ]\n",
      " [0.548394  0.497299 ]\n",
      " [0.467882  0.511188 ]\n",
      " [0.279948  0.604167 ]\n",
      " [0.552951  0.493056 ]\n",
      " [0.485894  0.500772 ]\n",
      " [0.381076  0.568673 ]\n",
      " [0.558594  0.487269 ]\n",
      " [0.499132  0.49267  ]\n",
      " [0.411024  0.543596 ]\n",
      " [0.565972  0.481481 ]\n",
      " [0.520399  0.478009 ]\n",
      " [0.465061  0.51196  ]\n",
      " [0.527995  0.475309 ]\n",
      " [0.483724  0.500386 ]]\n",
      "(92, 2)\n",
      "(78, 2)\n"
     ]
    }
   ],
   "source": [
    "print(data.shape[1])\n",
    "\n",
    "X = data[:, 1:3]\n",
    "#X = data[:, 1:5]\n",
    "y = data[:, 6:8]\n",
    "\n",
    "print(X)\n",
    "print(X.shape)\n",
    "\n",
    "X_train, X_test, y_train, y_test = train_test_split(\n",
    "X, y, test_size=0.15)\n",
    "\n",
    "print(X_train.shape)\n"
   ]
  },
  {
   "cell_type": "code",
   "execution_count": 46,
   "metadata": {},
   "outputs": [],
   "source": [
    "def featureNormalization(X):\n",
    "    \"\"\"\n",
    "    Take in numpy array of X values and return normalize X values,\n",
    "    the mean and standard deviation of each feature\n",
    "    \"\"\"\n",
    "    mean = np.mean(X, axis=0)\n",
    "    std = np.std(X, axis = 0)\n",
    "    \n",
    "    X_norm = (X - mean)/std\n",
    "    \n",
    "    return X_norm , mean , std"
   ]
  },
  {
   "cell_type": "code",
   "execution_count": 47,
   "metadata": {},
   "outputs": [],
   "source": [
    "scaler = StandardScaler()\n",
    "X_train_norm = scaler.fit_transform(X_train)"
   ]
  },
  {
   "cell_type": "code",
   "execution_count": 48,
   "metadata": {},
   "outputs": [],
   "source": [
    "def model_evalutaion(model, X, y, n_splits):\n",
    "    \n",
    "    cv = RepeatedKFold(n_splits=n_splits, n_repeats=10, random_state=1)\n",
    "    \n",
    "    scores = cross_validate(model, X_train, y_train, cv=cv, return_train_score=True)\n",
    "\n",
    "    print(scores['test_score'].mean())\n",
    "\n",
    "    print(scores['train_score'].mean())"
   ]
  },
  {
   "cell_type": "code",
   "execution_count": 49,
   "metadata": {},
   "outputs": [
    {
     "name": "stdout",
     "output_type": "stream",
     "text": [
      "0.7592292654512396\n",
      "0.7886055844131834\n"
     ]
    }
   ],
   "source": [
    "model = LinearRegression()\n",
    "\n",
    "model_evalutaion(model, X_train, y_train, 4)\n"
   ]
  },
  {
   "cell_type": "code",
   "execution_count": 50,
   "metadata": {},
   "outputs": [
    {
     "name": "stdout",
     "output_type": "stream",
     "text": [
      "{'alpha': 0.02}\n"
     ]
    }
   ],
   "source": [
    "model2 = Ridge()\n",
    "\n",
    "grid = {'alpha': [0.001, 0.01 ,0.02, 0.05, 0.1, 0.2, 0.5, 0.7, 1, 3 , 10, 30, 40, 50, 100]}\n",
    "\n",
    "clf = GridSearchCV(model2,grid, cv=5)\n",
    "\n",
    "clf.fit(X_train, y_train)\n",
    "\n",
    "print(clf.best_params_)\n"
   ]
  },
  {
   "cell_type": "code",
   "execution_count": 51,
   "metadata": {},
   "outputs": [],
   "source": [
    "def test_model(model, X_test, y_test):\n",
    "    \n",
    "    print(\"test \", X_test)\n",
    "    print(type(X_test))\n",
    "    \n",
    "    predictions = model.predict(X_test)\n",
    "    \n",
    "    for i in range(len(predictions)):\n",
    "        print(\"X=%s, Predicted=%s, equal=%s\" % (predictions[i], y_test[i], (predictions[i]==y_test[i]) ))"
   ]
  },
  {
   "cell_type": "code",
   "execution_count": 52,
   "metadata": {},
   "outputs": [
    {
     "name": "stdout",
     "output_type": "stream",
     "text": [
      "0.757879304072973\n",
      "0.7876738202235863\n",
      "test  [[0.428168  0.607253 ]\n",
      " [0.258464  0.546296 ]\n",
      " [0.456597  0.567515 ]\n",
      " [0.129774  0.63696  ]\n",
      " [0.429253  0.596451 ]\n",
      " [0.503255  0.594522 ]\n",
      " [0.499132  0.546296 ]\n",
      " [0.532552  0.510802 ]\n",
      " [0.520399  0.478009 ]\n",
      " [0.0594618 0.805941 ]\n",
      " [0.440321  0.48071  ]\n",
      " [0.390408  0.565586 ]\n",
      " [0.467882  0.511188 ]\n",
      " [0.230035  0.765818 ]]\n",
      "<class 'numpy.ndarray'>\n",
      "X=[40.62818519 -8.73325312], Predicted=[40.628235 -8.733401], equal=[False False]\n",
      "X=[40.62828639 -8.73330104], Predicted=[40.628343 -8.733427], equal=[False False]\n",
      "X=[40.62817466 -8.73320348], Predicted=[40.628226 -8.733373], equal=[False False]\n",
      "X=[40.62834551 -8.73345142], Predicted=[40.628362 -8.733523], equal=[False False]\n",
      "X=[40.62818598 -8.73324349], Predicted=[40.62824  -8.733408], equal=[False False]\n",
      "X=[40.62814552 -8.73319884], Predicted=[40.628191 -8.733342], equal=[False False]\n",
      "X=[40.62815399 -8.73316106], Predicted=[40.628185 -8.733257], equal=[False False]\n",
      "X=[40.62814018 -8.73311205], Predicted=[40.628152 -8.733172], equal=[False False]\n",
      "X=[40.62815109 -8.7330918 ], Predicted=[40.628131 -8.733035], equal=[False False]\n",
      "X=[40.62836244 -8.7336331 ], Predicted=[40.628324 -8.73355 ], equal=[False False]\n",
      "X=[40.62819479 -8.73314063], Predicted=[40.62819 -8.73302], equal=[False False]\n",
      "X=[40.62821132 -8.73324037], Predicted=[40.628251 -8.733361], equal=[False False]\n",
      "X=[40.62817571 -8.73314999], Predicted=[40.628199 -8.733216], equal=[False False]\n",
      "X=[40.62827377 -8.73350046], Predicted=[40.628268 -8.73349 ], equal=[False False]\n",
      "test  [[0.61263  0.497685]]\n",
      "<class 'numpy.ndarray'>\n",
      "X=[40.62809781 -8.73305455], Predicted=[40.6297278  -8.74681932], equal=[False False]\n"
     ]
    }
   ],
   "source": [
    "model3 = Ridge(alpha=0.02)\n",
    "\n",
    "\n",
    "model_evalutaion(clf, X_train, y_train, 5)\n",
    "model3.fit(X_train, y_train)\n",
    "\n",
    "test_model(clf, X_test, y_test )\n",
    "\n",
    "test_model(clf, np.asarray([[0.61263,  0.497685]]), np.asarray([[40.6297278, -8.74681932]]))"
   ]
  },
  {
   "cell_type": "code",
   "execution_count": 36,
   "metadata": {},
   "outputs": [
    {
     "name": "stdout",
     "output_type": "stream",
     "text": [
      "-1.1636341683330929\n",
      "-0.6858364517150991\n"
     ]
    }
   ],
   "source": [
    "model4 = MultiOutputRegressor(SVR())\n",
    "\n",
    "model_evalutaion(model4, X_train, y_train, 4)"
   ]
  },
  {
   "cell_type": "code",
   "execution_count": 37,
   "metadata": {},
   "outputs": [],
   "source": [
    "def save_model(model, filename):\n",
    "    \n",
    "    # para obter os coeficicientes aprendidos durante o treino model.coef__\n",
    "    \n",
    "    with open(filename, 'wb') as file:\n",
    "        pickle.dump(model, file)\n",
    "    "
   ]
  },
  {
   "cell_type": "code",
   "execution_count": 38,
   "metadata": {},
   "outputs": [],
   "source": [
    "def load_model(filename):\n",
    "    with open(filename, 'rb') as file:\n",
    "       return pickle.load(file)"
   ]
  },
  {
   "cell_type": "code",
   "execution_count": 53,
   "metadata": {},
   "outputs": [
    {
     "name": "stdout",
     "output_type": "stream",
     "text": [
      "0.757879304072973\n",
      "0.7876738202235863\n",
      "test  [[0.61263  0.497685]]\n",
      "<class 'numpy.ndarray'>\n",
      "X=[40.62809781 -8.73305455], Predicted=[40.6297278  -8.74681932], equal=[False False]\n"
     ]
    }
   ],
   "source": [
    "filename = \"ponte.pkl\"\n",
    "\n",
    "save_model(clf, filename)\n",
    "\n",
    "pkl_model = load_model(filename)\n",
    "\n",
    "model_evalutaion(clf, X_train, y_train, 5)\n",
    "\n",
    "test_model(clf, np.asarray([[0.61263,  0.497685]]), np.asarray([[40.6297278, -8.74681932]]))"
   ]
  },
  {
   "cell_type": "code",
   "execution_count": null,
   "metadata": {},
   "outputs": [],
   "source": []
  },
  {
   "cell_type": "code",
   "execution_count": null,
   "metadata": {},
   "outputs": [],
   "source": []
  },
  {
   "cell_type": "code",
   "execution_count": null,
   "metadata": {},
   "outputs": [],
   "source": []
  }
 ],
 "metadata": {
  "kernelspec": {
   "display_name": "Python 3",
   "language": "python",
   "name": "python3"
  },
  "language_info": {
   "codemirror_mode": {
    "name": "ipython",
    "version": 3
   },
   "file_extension": ".py",
   "mimetype": "text/x-python",
   "name": "python",
   "nbconvert_exporter": "python",
   "pygments_lexer": "ipython3",
   "version": "3.8.8"
  }
 },
 "nbformat": 4,
 "nbformat_minor": 4
}
