{
 "cells": [
  {
   "cell_type": "markdown",
   "metadata": {},
   "source": [
    "# Linear Regression\n"
   ]
  },
  {
   "cell_type": "code",
   "execution_count": 1,
   "metadata": {},
   "outputs": [],
   "source": [
    "import pandas as pd\n",
    "import numpy as np\n",
    "import matplotlib.pyplot as plt\n",
    "from sklearn.model_selection import train_test_split,cross_validate, RepeatedKFold\n",
    "from sklearn.linear_model import LinearRegression\n",
    "from sklearn.preprocessing import StandardScaler\n",
    "from sklearn.linear_model import Ridge\n",
    "from sklearn.model_selection import GridSearchCV\n",
    "from sklearn.svm import SVR\n",
    "from sklearn.multioutput import MultiOutputRegressor\n",
    "import pickle"
   ]
  },
  {
   "cell_type": "code",
   "execution_count": 2,
   "metadata": {},
   "outputs": [
    {
     "name": "stdout",
     "output_type": "stream",
     "text": [
      "   obj         x         y         w         h      perc        lat      long\n",
      "0    2  0.410373  0.229552  0.020399  0.028549  0.705900  40.629777 -8.746839\n",
      "1    2  0.420139  0.195988  0.015625  0.021605  0.722931  40.629997 -8.746807\n",
      "2    2  0.694444  0.626157  0.098958  0.138117  0.818434  40.629226 -8.746824\n",
      "3    2  0.446398  0.282407  0.029080  0.043210  0.855846  40.629575 -8.746841\n",
      "4    2  0.421224  0.194830  0.015191  0.022377  0.673168  40.630009 -8.746807\n"
     ]
    }
   ],
   "source": [
    "data=pd.read_csv('mappingDunas.csv', header=0)\n",
    "\n",
    "print(data.head())"
   ]
  },
  {
   "cell_type": "code",
   "execution_count": 3,
   "metadata": {},
   "outputs": [],
   "source": [
    "data.describe()\n",
    "data=data.values"
   ]
  },
  {
   "cell_type": "code",
   "execution_count": 24,
   "metadata": {},
   "outputs": [
    {
     "name": "stdout",
     "output_type": "stream",
     "text": [
      "8\n",
      "[[0.410373 0.229552]\n",
      " [0.420139 0.195988]\n",
      " [0.694444 0.626157]\n",
      " [0.446398 0.282407]\n",
      " [0.421224 0.19483 ]\n",
      " [0.409071 0.225694]\n",
      " [0.658854 0.576775]\n",
      " [0.442274 0.277006]\n",
      " [0.421441 0.192515]\n",
      " [0.407769 0.221836]\n",
      " [0.908637 0.955633]\n",
      " [0.633464 0.534722]\n",
      " [0.438585 0.270062]\n",
      " [0.421658 0.19213 ]\n",
      " [0.406467 0.220293]\n",
      " [0.61263  0.497685]\n",
      " [0.434462 0.262346]\n",
      " [0.867405 0.910108]\n",
      " [0.421658 0.19213 ]\n",
      " [0.406467 0.220293]\n",
      " [0.61263  0.497685]\n",
      " [0.434462 0.262346]\n",
      " [0.867405 0.910108]\n",
      " [0.423611 0.189429]\n",
      " [0.591146 0.466049]\n",
      " [0.405816 0.218364]\n",
      " [0.43099  0.257716]\n",
      " [0.818793 0.856481]\n",
      " [0.571615 0.442901]\n",
      " [0.40408  0.215278]\n",
      " [0.427951 0.253472]\n",
      " [0.771267 0.768519]\n",
      " [0.402778 0.21142 ]\n",
      " [0.552734 0.413966]\n",
      " [0.424913 0.247299]\n",
      " [0.726562 0.697531]\n",
      " [0.434679 0.349923]\n",
      " [0.525174 0.575231]\n",
      " [0.442708 0.368441]\n",
      " [0.559896 0.65625 ]\n",
      " [0.450955 0.388889]\n",
      " [0.603082 0.757716]\n",
      " [0.459852 0.411265]\n",
      " [0.656033 0.86304 ]\n",
      " [0.975477 0.829861]\n",
      " [0.709852 0.935957]\n",
      " [0.472656 0.441358]\n",
      " [0.947266 0.784722]\n",
      " [0.958767 0.842978]\n",
      " [0.4898   0.474923]\n",
      " [0.920356 0.792824]\n",
      " [0.91428  0.75733 ]\n",
      " [0.506293 0.511188]\n",
      " [0.887153 0.733796]\n",
      " [0.530165 0.569444]\n",
      " [0.856337 0.69213 ]\n",
      " [0.557943 0.634645]\n",
      " [0.828125 0.650463]\n",
      " [0.590712 0.712577]\n",
      " [0.800998 0.614198]\n",
      " [0.634983 0.823688]\n",
      " [0.776042 0.594907]\n",
      " [0.681858 0.891204]\n",
      " [0.753255 0.554784]\n",
      " [0.753038 0.552469]\n",
      " [0.730035 0.960648]\n",
      " [0.73329  0.51929 ]\n",
      " [0.712457 0.503472]\n",
      " [0.694227 0.485339]\n",
      " [0.674479 0.464892]\n",
      " [0.66059  0.441744]\n",
      " [0.66059  0.441744]\n",
      " [0.643663 0.43287 ]\n",
      " [0.631293 0.415895]\n",
      " [0.616102 0.400463]\n",
      " [0.596354 0.371914]\n",
      " [0.58724  0.364969]\n",
      " [0.575955 0.352623]\n",
      " [0.438585 0.270062]\n",
      " [0.557943 0.634645]\n",
      " [0.442708 0.368441]\n",
      " [0.753038 0.552469]\n",
      " [0.908637 0.955633]\n",
      " [0.712457 0.503472]\n",
      " [0.66059  0.441744]\n",
      " [0.709852 0.935957]\n",
      " [0.409071 0.225694]\n",
      " [0.887153 0.733796]\n",
      " [0.525174 0.575231]\n",
      " [0.91428  0.75733 ]\n",
      " [0.410373 0.229552]\n",
      " [0.4898   0.474923]\n",
      " [0.677951 0.72338 ]\n",
      " [0.362413 0.186343]\n",
      " [0.4898   0.474923]\n",
      " [0.91428  0.75733 ]]\n",
      "(96, 2)\n",
      "(81, 2)\n"
     ]
    }
   ],
   "source": [
    "print(data.shape[1])\n",
    "\n",
    "X = data[:, 1:3]\n",
    "#X = data[:, 1:5]\n",
    "y = data[:, 6:8]\n",
    "\n",
    "print(X)\n",
    "print(X.shape)\n",
    "\n",
    "X_train, X_test, y_train, y_test = train_test_split(\n",
    "X, y, test_size=0.15)\n",
    "\n",
    "print(X_train.shape)\n"
   ]
  },
  {
   "cell_type": "code",
   "execution_count": 17,
   "metadata": {},
   "outputs": [],
   "source": [
    "def featureNormalization(X):\n",
    "    \"\"\"\n",
    "    Take in numpy array of X values and return normalize X values,\n",
    "    the mean and standard deviation of each feature\n",
    "    \"\"\"\n",
    "    mean = np.mean(X, axis=0)\n",
    "    std = np.std(X, axis = 0)\n",
    "    \n",
    "    X_norm = (X - mean)/std\n",
    "    \n",
    "    return X_norm , mean , std"
   ]
  },
  {
   "cell_type": "code",
   "execution_count": 18,
   "metadata": {},
   "outputs": [],
   "source": [
    "scaler = StandardScaler()\n",
    "X_train_norm = scaler.fit_transform(X_train)"
   ]
  },
  {
   "cell_type": "code",
   "execution_count": 27,
   "metadata": {},
   "outputs": [],
   "source": [
    "def model_evalutaion(model, X, y, n_splits):\n",
    "    \n",
    "    cv = RepeatedKFold(n_splits=n_splits, n_repeats=10, random_state=1)\n",
    "    \n",
    "    scores = cross_validate(model, X_train, y_train, cv=cv, return_train_score=True)\n",
    "\n",
    "    print(scores['test_score'].mean())\n",
    "\n",
    "    print(scores['train_score'].mean())"
   ]
  },
  {
   "cell_type": "code",
   "execution_count": 28,
   "metadata": {},
   "outputs": [
    {
     "name": "stdout",
     "output_type": "stream",
     "text": [
      "0.7289610599656776\n",
      "0.7830842650989314\n"
     ]
    }
   ],
   "source": [
    "model = LinearRegression()\n",
    "\n",
    "model_evalutaion(model, X_train, y_train, 4)\n"
   ]
  },
  {
   "cell_type": "code",
   "execution_count": 29,
   "metadata": {},
   "outputs": [
    {
     "name": "stdout",
     "output_type": "stream",
     "text": [
      "{'alpha': 0.01}\n"
     ]
    }
   ],
   "source": [
    "model2 = Ridge()\n",
    "\n",
    "grid = {'alpha': [0.001, 0.01 ,0.02, 0.05, 0.1, 0.2, 0.5, 0.7, 1, 3 , 10, 30, 40, 50, 100]}\n",
    "\n",
    "clf = GridSearchCV(model2,grid, cv=4)\n",
    "\n",
    "clf.fit(X_train, y_train)\n",
    "\n",
    "print(clf.best_params_)\n"
   ]
  },
  {
   "cell_type": "code",
   "execution_count": 22,
   "metadata": {},
   "outputs": [],
   "source": [
    "def test_model(model, X_test, y_test):\n",
    "    \n",
    "    predictions = model.predict(X_test)\n",
    "    \n",
    "    for i in range(len(predictions)):\n",
    "        print(\"X=%s, Predicted=%s, equal=%s\" % (predictions[i], y_test[i], (predictions[i]==y_test[i]) ))"
   ]
  },
  {
   "cell_type": "code",
   "execution_count": 32,
   "metadata": {},
   "outputs": [
    {
     "name": "stdout",
     "output_type": "stream",
     "text": [
      "0.7288688223529517\n",
      "0.782652606814152\n",
      "X=[40.62932332 -8.74688223], Predicted=[40.62924  -8.746874], equal=[False False]\n",
      "X=[40.62957703 -8.74685719], Predicted=[40.629396 -8.746883], equal=[False False]\n",
      "X=[40.6297119  -8.74682278], Predicted=[40.629997 -8.746807], equal=[False False]\n",
      "X=[40.62969405 -8.7468348 ], Predicted=[40.629789 -8.746839], equal=[False False]\n",
      "X=[40.62966262 -8.74683397], Predicted=[40.629632 -8.746831], equal=[False False]\n",
      "X=[40.62897774 -8.74681589], Predicted=[40.629176 -8.74683 ], equal=[False False]\n",
      "X=[40.62969075 -8.74683524], Predicted=[40.629777 -8.746839], equal=[False False]\n",
      "X=[40.62948182 -8.74686493], Predicted=[40.629344 -8.746883], equal=[False False]\n",
      "X=[40.62908296 -8.74682741], Predicted=[40.62922  -8.746827], equal=[False False]\n",
      "X=[40.6297035 -8.7468342], Predicted=[40.629866 -8.746832], equal=[False False]\n",
      "X=[40.62904249 -8.74676699], Predicted=[40.629206 -8.746771], equal=[False False]\n",
      "X=[40.62912145 -8.74676345], Predicted=[40.629214 -8.746771], equal=[False False]\n",
      "X=[40.62936155 -8.74677698], Predicted=[40.629277 -8.746777], equal=[False False]\n",
      "X=[40.62963893 -8.74683393], Predicted=[40.629575 -8.746841], equal=[False False]\n",
      "X=[40.62965797 -8.74683372], Predicted=[40.629604 -8.746842], equal=[False False]\n"
     ]
    }
   ],
   "source": [
    "model3 = Ridge(alpha=0.01)\n",
    "\n",
    "\n",
    "model_evalutaion(clf, X_train, y_train, 4)\n",
    "model3.fit(X_train, y_train)\n",
    "\n",
    "test_model(clf, X_test, y_test )"
   ]
  },
  {
   "cell_type": "code",
   "execution_count": 15,
   "metadata": {},
   "outputs": [
    {
     "name": "stdout",
     "output_type": "stream",
     "text": [
      "-1.0012908954452915\n",
      "-0.7376644971004629\n"
     ]
    }
   ],
   "source": [
    "model4 = MultiOutputRegressor(SVR())\n",
    "\n",
    "model_evalutaion(model4, X_train, y_train, 4)"
   ]
  },
  {
   "cell_type": "code",
   "execution_count": 71,
   "metadata": {},
   "outputs": [],
   "source": [
    "def save_model(model, filename):\n",
    "    \n",
    "    # para obter os coeficicientes aprendidos durante o treino model.coef__\n",
    "    \n",
    "    with open(filename, 'wb') as file:\n",
    "        pickle.dump(model, file)\n",
    "    "
   ]
  },
  {
   "cell_type": "code",
   "execution_count": 72,
   "metadata": {},
   "outputs": [],
   "source": [
    "def load_model(filename):\n",
    "    with open(filename, 'rb') as file:\n",
    "       return pickle.load(file)"
   ]
  },
  {
   "cell_type": "code",
   "execution_count": 25,
   "metadata": {},
   "outputs": [
    {
     "ename": "NameError",
     "evalue": "name 'save_model' is not defined",
     "output_type": "error",
     "traceback": [
      "\u001b[0;31m---------------------------------------------------------------------------\u001b[0m",
      "\u001b[0;31mNameError\u001b[0m                                 Traceback (most recent call last)",
      "\u001b[0;32m<ipython-input-25-1d1e8a46aa8c>\u001b[0m in \u001b[0;36m<module>\u001b[0;34m\u001b[0m\n\u001b[1;32m      1\u001b[0m \u001b[0mfilename\u001b[0m \u001b[0;34m=\u001b[0m \u001b[0;34m\"ridge.pkl\"\u001b[0m\u001b[0;34m\u001b[0m\u001b[0;34m\u001b[0m\u001b[0m\n\u001b[1;32m      2\u001b[0m \u001b[0;34m\u001b[0m\u001b[0m\n\u001b[0;32m----> 3\u001b[0;31m \u001b[0msave_model\u001b[0m\u001b[0;34m(\u001b[0m\u001b[0mclf\u001b[0m\u001b[0;34m,\u001b[0m \u001b[0mfilename\u001b[0m\u001b[0;34m)\u001b[0m\u001b[0;34m\u001b[0m\u001b[0;34m\u001b[0m\u001b[0m\n\u001b[0m\u001b[1;32m      4\u001b[0m \u001b[0;34m\u001b[0m\u001b[0m\n\u001b[1;32m      5\u001b[0m \u001b[0mpkl_model\u001b[0m \u001b[0;34m=\u001b[0m \u001b[0mload_model\u001b[0m\u001b[0;34m(\u001b[0m\u001b[0mfilename\u001b[0m\u001b[0;34m)\u001b[0m\u001b[0;34m\u001b[0m\u001b[0;34m\u001b[0m\u001b[0m\n",
      "\u001b[0;31mNameError\u001b[0m: name 'save_model' is not defined"
     ]
    }
   ],
   "source": [
    "filename = \"ridge.pkl\"\n",
    "\n",
    "save_model(clf, filename)\n",
    "\n",
    "pkl_model = load_model(filename)\n",
    "\n",
    "model_evalutaion(clf, X_train, y_train, 5)\n",
    "\n",
    "#test_model(pkl_model, X_test, y_test )"
   ]
  },
  {
   "cell_type": "code",
   "execution_count": null,
   "metadata": {},
   "outputs": [],
   "source": []
  },
  {
   "cell_type": "code",
   "execution_count": null,
   "metadata": {},
   "outputs": [],
   "source": []
  },
  {
   "cell_type": "code",
   "execution_count": null,
   "metadata": {},
   "outputs": [],
   "source": []
  }
 ],
 "metadata": {
  "kernelspec": {
   "display_name": "Python 3",
   "language": "python",
   "name": "python3"
  },
  "language_info": {
   "codemirror_mode": {
    "name": "ipython",
    "version": 3
   },
   "file_extension": ".py",
   "mimetype": "text/x-python",
   "name": "python",
   "nbconvert_exporter": "python",
   "pygments_lexer": "ipython3",
   "version": "3.8.8"
  }
 },
 "nbformat": 4,
 "nbformat_minor": 4
}
